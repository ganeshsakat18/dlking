{
 "cells": [
  {
   "cell_type": "code",
   "execution_count": 9,
   "id": "2d825f7e",
   "metadata": {},
   "outputs": [],
   "source": [
    "import tensorflow as tf\n",
    "from keras.models import Sequential\n",
    "from keras.layers import Dense, Conv2D, Dropout, Flatten, MaxPooling2D\n",
    "import matplotlib.pyplot as plt\n",
    "import numpy as np\n",
    "import random"
   ]
  },
  {
   "cell_type": "code",
   "execution_count": 10,
   "id": "dd914d26",
   "metadata": {},
   "outputs": [],
   "source": [
    "# CIFAR-10 class names\n",
    "class_names = [\n",
    "    \"airplane\", \"automobile\", \"bird\", \"cat\", \"deer\", \n",
    "    \"dog\", \"frog\", \"horse\", \"ship\", \"truck\"\n",
    "]"
   ]
  },
  {
   "cell_type": "code",
   "execution_count": 12,
   "id": "10abdefe",
   "metadata": {},
   "outputs": [],
   "source": [
    "# Loading and preprocessing the image data\n",
    "cifar10 = tf.keras.datasets.cifar10\n",
    "(x_train, y_train), (x_test, y_test) = cifar10.load_data()"
   ]
  },
  {
   "cell_type": "code",
   "execution_count": 13,
   "id": "23a8047e",
   "metadata": {},
   "outputs": [],
   "source": [
    "# Normalizing the pixel values to be between 0 and 1\n",
    "x_train = x_train.astype('float32') / 255.0\n",
    "x_test = x_test.astype('float32') / 255.0\n"
   ]
  },
  {
   "cell_type": "code",
   "execution_count": 14,
   "id": "3096fce5",
   "metadata": {},
   "outputs": [],
   "source": [
    "# Defining the model's architecture\n",
    "model = Sequential()\n",
    "model.add(Conv2D(32, kernel_size=(3, 3), activation='relu', input_shape=(32, 32, 3)))\n",
    "model.add(MaxPooling2D(pool_size=(2, 2)))\n",
    "model.add(Conv2D(64, kernel_size=(3, 3), activation='relu'))\n",
    "model.add(MaxPooling2D(pool_size=(2, 2)))\n",
    "model.add(Flatten())\n",
    "model.add(Dense(64, activation='relu'))\n",
    "model.add(Dropout(0.3))\n",
    "model.add(Dense(10, activation='softmax'))"
   ]
  },
  {
   "cell_type": "code",
   "execution_count": 15,
   "id": "fda98e28",
   "metadata": {},
   "outputs": [
    {
     "name": "stdout",
     "output_type": "stream",
     "text": [
      "Model: \"sequential_1\"\n",
      "_________________________________________________________________\n",
      " Layer (type)                Output Shape              Param #   \n",
      "=================================================================\n",
      " conv2d_2 (Conv2D)           (None, 30, 30, 32)        896       \n",
      "                                                                 \n",
      " max_pooling2d_2 (MaxPoolin  (None, 15, 15, 32)        0         \n",
      " g2D)                                                            \n",
      "                                                                 \n",
      " conv2d_3 (Conv2D)           (None, 13, 13, 64)        18496     \n",
      "                                                                 \n",
      " max_pooling2d_3 (MaxPoolin  (None, 6, 6, 64)          0         \n",
      " g2D)                                                            \n",
      "                                                                 \n",
      " flatten_1 (Flatten)         (None, 2304)              0         \n",
      "                                                                 \n",
      " dense_2 (Dense)             (None, 64)                147520    \n",
      "                                                                 \n",
      " dropout_1 (Dropout)         (None, 64)                0         \n",
      "                                                                 \n",
      " dense_3 (Dense)             (None, 10)                650       \n",
      "                                                                 \n",
      "=================================================================\n",
      "Total params: 167562 (654.54 KB)\n",
      "Trainable params: 167562 (654.54 KB)\n",
      "Non-trainable params: 0 (0.00 Byte)\n",
      "_________________________________________________________________\n"
     ]
    }
   ],
   "source": [
    "# Model summary\n",
    "model.summary()"
   ]
  },
  {
   "cell_type": "code",
   "execution_count": 16,
   "id": "44b15725",
   "metadata": {},
   "outputs": [
    {
     "name": "stdout",
     "output_type": "stream",
     "text": [
      "Epoch 1/10\n",
      "782/782 [==============================] - 19s 20ms/step - loss: 1.6697 - accuracy: 0.3872\n",
      "Epoch 2/10\n",
      "782/782 [==============================] - 15s 19ms/step - loss: 1.3665 - accuracy: 0.5100\n",
      "Epoch 3/10\n",
      "782/782 [==============================] - 15s 19ms/step - loss: 1.2317 - accuracy: 0.5615\n",
      "Epoch 4/10\n",
      "782/782 [==============================] - 15s 19ms/step - loss: 1.1476 - accuracy: 0.5923\n",
      "Epoch 5/10\n",
      "782/782 [==============================] - 15s 19ms/step - loss: 1.0943 - accuracy: 0.6122\n",
      "Epoch 6/10\n",
      "782/782 [==============================] - 15s 19ms/step - loss: 1.0387 - accuracy: 0.6329\n",
      "Epoch 7/10\n",
      "782/782 [==============================] - 15s 20ms/step - loss: 0.9971 - accuracy: 0.6460\n",
      "Epoch 8/10\n",
      "782/782 [==============================] - 15s 19ms/step - loss: 0.9674 - accuracy: 0.6554\n",
      "Epoch 9/10\n",
      "782/782 [==============================] - 15s 19ms/step - loss: 0.9212 - accuracy: 0.6750\n",
      "Epoch 10/10\n",
      "782/782 [==============================] - 15s 19ms/step - loss: 0.8924 - accuracy: 0.6855\n"
     ]
    },
    {
     "data": {
      "text/plain": [
       "<keras.src.callbacks.History at 0x1a893edc350>"
      ]
     },
     "execution_count": 16,
     "metadata": {},
     "output_type": "execute_result"
    }
   ],
   "source": [
    "# Compiling and training the model\n",
    "model.compile(optimizer='adam', loss='sparse_categorical_crossentropy', metrics=['accuracy'])\n",
    "model.fit(x_train, y_train, epochs=10, batch_size=64)\n"
   ]
  },
  {
   "cell_type": "code",
   "execution_count": 17,
   "id": "5adab8d6",
   "metadata": {},
   "outputs": [
    {
     "name": "stdout",
     "output_type": "stream",
     "text": [
      "313/313 [==============================] - 2s 6ms/step - loss: 0.8898 - accuracy: 0.6938\n",
      "Test Loss: 0.8898270726203918\n",
      "Test Accuracy: 0.6937999725341797\n"
     ]
    }
   ],
   "source": [
    "# Estimating the model's performance\n",
    "test_loss, test_accuracy = model.evaluate(x_test, y_test)\n",
    "print(f\"Test Loss: {test_loss}\")\n",
    "print(f\"Test Accuracy: {test_accuracy}\")\n"
   ]
  },
  {
   "cell_type": "code",
   "execution_count": 18,
   "id": "202d34a9",
   "metadata": {},
   "outputs": [],
   "source": [
    "# Show random image from the test set\n",
    "n = random.randint(0, len(x_test)-1)  # random index\n",
    "image = x_test[n]\n",
    "true_label = y_test[n][0]  # Extracting the true label (as a scalar)"
   ]
  },
  {
   "cell_type": "code",
   "execution_count": 19,
   "id": "77d4c3c0",
   "metadata": {},
   "outputs": [
    {
     "data": {
      "image/png": "[encoded data removed]",
      "text/plain": [
       "<Figure size 640x480 with 1 Axes>"
      ]
     },
     "metadata": {},
     "output_type": "display_data"
    }
   ],
   "source": [
    "# Display the image\n",
    "plt.imshow(image)\n",
    "plt.title(f\"True label: {class_names[true_label]}\")\n",
    "plt.show()"
   ]
  },
  {
   "cell_type": "code",
   "execution_count": 20,
   "id": "7f1e0dfd",
   "metadata": {},
   "outputs": [
    {
     "name": "stdout",
     "output_type": "stream",
     "text": [
      "1/1 [==============================] - 0s 217ms/step\n",
      "Predicted class: airplane\n"
     ]
    }
   ],
   "source": [
    "# Reshape the image for the model input (batch size of 1)\n",
    "image = np.expand_dims(image, axis=0)\n",
    "\n",
    "# Predict the class of the image\n",
    "predicted_class = model.predict(image)\n",
    "predicted_label = np.argmax(predicted_class, axis=1)[0]\n",
    "\n",
    "# Display the predicted class\n",
    "print(f\"Predicted class: {class_names[predicted_label]}\")"
   ]
  },
  {
   "cell_type": "code",
   "execution_count": null,
   "id": "82fd3d08",
   "metadata": {},
   "outputs": [],
   "source": []
  }
 ],
 "metadata": {
  "kernelspec": {
   "display_name": "Python 3 (ipykernel)",
   "language": "python",
   "name": "python3"
  },
  "language_info": {
   "codemirror_mode": {
    "name": "ipython",
    "version": 3
   },
   "file_extension": ".py",
   "mimetype": "text/x-python",
   "name": "python",
   "nbconvert_exporter": "python",
   "pygments_lexer": "ipython3",
   "version": "3.11.5"
  }
 },
 "nbformat": 4,
 "nbformat_minor": 5
}
