{
 "cells": [
  {
   "cell_type": "code",
   "execution_count": 1,
   "id": "74157a49",
   "metadata": {},
   "outputs": [
    {
     "name": "stdout",
     "output_type": "stream",
     "text": [
      "WARNING:tensorflow:From C:\\Users\\user\\anaconda\\Lib\\site-packages\\keras\\src\\losses.py:2976: The name tf.losses.sparse_softmax_cross_entropy is deprecated. Please use tf.compat.v1.losses.sparse_softmax_cross_entropy instead.\n",
      "\n"
     ]
    }
   ],
   "source": [
    "from tensorflow.keras.preprocessing.image import ImageDataGenerator\n",
    "from tensorflow.keras.models import Sequential\n",
    "from tensorflow.keras.layers import Dense,Flatten,GlobalAveragePooling2D,Dropout\n",
    "import matplotlib.pyplot as plt\n",
    "from tensorflow.keras.applications import VGG16\n",
    "from tensorflow.keras import models,layers\n",
    "from tensorflow.keras.optimizers import Adam\n",
    "import numpy as np"
   ]
  },
  {
   "cell_type": "code",
   "execution_count": 2,
   "id": "e3168926",
   "metadata": {},
   "outputs": [],
   "source": [
    "# Define the path to the dataset\n",
    "data_folder = \"caltech-101-img\""
   ]
  },
  {
   "cell_type": "code",
   "execution_count": 3,
   "id": "29b7bba4",
   "metadata": {},
   "outputs": [],
   "source": [
    "# Step (d): Preprocessing and augmenting the dataset for training\n",
    "datagen = ImageDataGenerator(rescale=1./255,\n",
    "                             validation_split=0.2,\n",
    "                             rotation_range=20,\n",
    "                             width_shift_range=0.2,\n",
    "                             height_shift_range=0.2,\n",
    "                             shear_range=0.2,\n",
    "                             zoom_range=0.2,\n",
    "                             horizontal_flip=True,\n",
    "                             fill_mode='nearest')\n"
   ]
  },
  {
   "cell_type": "code",
   "execution_count": 4,
   "id": "73171b95",
   "metadata": {},
   "outputs": [
    {
     "name": "stdout",
     "output_type": "stream",
     "text": [
      "Found 7356 images belonging to 102 classes.\n",
      "Found 1788 images belonging to 102 classes.\n"
     ]
    }
   ],
   "source": [
    "# Loading training and validation data with data augmentation\n",
    "train_data = datagen.flow_from_directory(data_folder,\n",
    "                                         target_size=(32,32),\n",
    "                                         class_mode = 'categorical',\n",
    "                                         subset='training')\n",
    "\n",
    "val_data = datagen.flow_from_directory(data_folder,\n",
    "                                       target_size=(32,32),\n",
    "                                       class_mode='categorical',\n",
    "                                       subset='validation')\n"
   ]
  },
  {
   "cell_type": "code",
   "execution_count": 5,
   "id": "5e361b05",
   "metadata": {},
   "outputs": [],
   "source": [
    "num_classes = len(train_data.class_indices)  # Number of classes in the dataset\n"
   ]
  },
  {
   "cell_type": "code",
   "execution_count": 6,
   "id": "e69d12b6",
   "metadata": {},
   "outputs": [
    {
     "name": "stdout",
     "output_type": "stream",
     "text": [
      "WARNING:tensorflow:From C:\\Users\\user\\anaconda\\Lib\\site-packages\\keras\\src\\backend.py:1398: The name tf.executing_eagerly_outside_functions is deprecated. Please use tf.compat.v1.executing_eagerly_outside_functions instead.\n",
      "\n",
      "WARNING:tensorflow:From C:\\Users\\user\\anaconda\\Lib\\site-packages\\keras\\src\\layers\\pooling\\max_pooling2d.py:161: The name tf.nn.max_pool is deprecated. Please use tf.nn.max_pool2d instead.\n",
      "\n"
     ]
    }
   ],
   "source": [
    "# Step (a): Load a pre-trained model (VGG16)\n",
    "base_model=VGG16(weights='vgg16_weights_tf_dim_ordering_tf_kernels_notop.h5',include_top=False,input_shape=(32,32,3))"
   ]
  },
  {
   "cell_type": "code",
   "execution_count": 7,
   "id": "38076841",
   "metadata": {},
   "outputs": [],
   "source": [
    "# Step (b): Freeze the lower layers of the pre-trained model\n",
    "for layer in base_model.layers:\n",
    "    layer.trainable = False\n"
   ]
  },
  {
   "cell_type": "code",
   "execution_count": 8,
   "id": "f9f64d6f",
   "metadata": {},
   "outputs": [],
   "source": [
    "# Step (c): Add a custom classifier on top of the pre-trained base model\n",
    "model = models.Sequential([base_model,\n",
    "                           GlobalAveragePooling2D(),\n",
    "                           Dense(512,activation='relu'),\n",
    "                           Dropout(0.5),\n",
    "                           Dense(num_classes,activation='softmax')])\n"
   ]
  },
  {
   "cell_type": "code",
   "execution_count": 9,
   "id": "2fe6c07f",
   "metadata": {},
   "outputs": [
    {
     "name": "stdout",
     "output_type": "stream",
     "text": [
      "Epoch 1/10\n",
      "WARNING:tensorflow:From C:\\Users\\user\\anaconda\\Lib\\site-packages\\keras\\src\\utils\\tf_utils.py:492: The name tf.ragged.RaggedTensorValue is deprecated. Please use tf.compat.v1.ragged.RaggedTensorValue instead.\n",
      "\n",
      "WARNING:tensorflow:From C:\\Users\\user\\anaconda\\Lib\\site-packages\\keras\\src\\engine\\base_layer_utils.py:384: The name tf.executing_eagerly_outside_functions is deprecated. Please use tf.compat.v1.executing_eagerly_outside_functions instead.\n",
      "\n",
      "20/20 [==============================] - 9s 371ms/step - loss: 4.4006 - accuracy: 0.0891 - val_loss: 3.9702 - val_accuracy: 0.1678\n",
      "Epoch 2/10\n",
      "20/20 [==============================] - 7s 372ms/step - loss: 3.8373 - accuracy: 0.2172 - val_loss: 3.7543 - val_accuracy: 0.1879\n",
      "Epoch 3/10\n",
      "20/20 [==============================] - 7s 380ms/step - loss: 3.6419 - accuracy: 0.2500 - val_loss: 3.6126 - val_accuracy: 0.2204\n",
      "Epoch 4/10\n",
      "20/20 [==============================] - 7s 352ms/step - loss: 3.5907 - accuracy: 0.2500 - val_loss: 3.5040 - val_accuracy: 0.2371\n",
      "Epoch 5/10\n",
      "20/20 [==============================] - 7s 367ms/step - loss: 3.4980 - accuracy: 0.2531 - val_loss: 3.3886 - val_accuracy: 0.2550\n",
      "Epoch 6/10\n",
      "20/20 [==============================] - 10s 511ms/step - loss: 3.3533 - accuracy: 0.2812 - val_loss: 3.3391 - val_accuracy: 0.2707\n",
      "Epoch 7/10\n",
      "20/20 [==============================] - 8s 402ms/step - loss: 3.3002 - accuracy: 0.2891 - val_loss: 3.2655 - val_accuracy: 0.2746\n",
      "Epoch 8/10\n",
      "20/20 [==============================] - 7s 349ms/step - loss: 3.2079 - accuracy: 0.2922 - val_loss: 3.2342 - val_accuracy: 0.2830\n",
      "Epoch 9/10\n",
      "20/20 [==============================] - 7s 355ms/step - loss: 3.2891 - accuracy: 0.2766 - val_loss: 3.1722 - val_accuracy: 0.2987\n",
      "Epoch 10/10\n",
      "20/20 [==============================] - 10s 497ms/step - loss: 3.1637 - accuracy: 0.2940 - val_loss: 3.0869 - val_accuracy: 0.3059\n"
     ]
    },
    {
     "data": {
      "text/plain": [
       "<keras.src.callbacks.History at 0x199c573d310>"
      ]
     },
     "execution_count": 9,
     "metadata": {},
     "output_type": "execute_result"
    }
   ],
   "source": [
    "# Compile the model with categorical cross-entropy loss (for multi-class classification)\n",
    "model.compile(optimizer=Adam(learning_rate=1e-3),loss='categorical_crossentropy',metrics=['accuracy'])\n",
    "\n",
    "# Step (d): Train the classifier layers on the training data\n",
    "\n",
    "model.fit(train_data,steps_per_epoch=20,epochs=10,validation_data=val_data)"
   ]
  },
  {
   "cell_type": "code",
   "execution_count": 10,
   "id": "5c8af174",
   "metadata": {},
   "outputs": [
    {
     "name": "stdout",
     "output_type": "stream",
     "text": [
      "150/150 [==============================] - 83s 540ms/step - loss: 2.9159 - accuracy: 0.3469 - val_loss: 2.8402 - val_accuracy: 0.3708\n"
     ]
    },
    {
     "data": {
      "text/plain": [
       "<keras.src.callbacks.History at 0x199cdd3c610>"
      ]
     },
     "execution_count": 10,
     "metadata": {},
     "output_type": "execute_result"
    }
   ],
   "source": [
    "# Step (e): Fine-tune the model by unfreezing the last 10 layers\n",
    "\n",
    "for layer in base_model.layers[-10:]:\n",
    "    layer.trainable = True\n",
    "\n",
    "# Recompile with a lower learning rate for fine-tuning\n",
    "model.compile(optimizer=Adam(learning_rate=1e-5),loss='categorical_crossentropy',metrics=['accuracy'])\n",
    "model.fit(train_data,steps_per_epoch=150,epochs=1,validation_data=val_data)\n"
   ]
  },
  {
   "cell_type": "code",
   "execution_count": 11,
   "id": "56718dfd",
   "metadata": {},
   "outputs": [
    {
     "name": "stdout",
     "output_type": "stream",
     "text": [
      "1/1 [==============================] - 0s 453ms/step\n"
     ]
    },
    {
     "data": {
      "image/png": "[encoded data removed]",
      "text/plain": [
       "<Figure size 640x480 with 1 Axes>"
      ]
     },
     "metadata": {},
     "output_type": "display_data"
    },
    {
     "name": "stdout",
     "output_type": "stream",
     "text": [
      "Motorbikes\n"
     ]
    }
   ],
   "source": [
    "# For prediction and visualization\n",
    "class_labels = list(train_data.class_indices.keys())\n",
    "x_val, y_val = val_data.next()\n",
    "\n",
    "pred = model.predict(x_val)\n",
    "\n",
    "plt.imshow(x_val[10])\n",
    "plt.show()\n",
    "\n",
    "print(class_labels[np.argmax(pred[10],axis = 0)])"
   ]
  },
  {
   "cell_type": "code",
   "execution_count": 12,
   "id": "a9fcf0ee",
   "metadata": {},
   "outputs": [
    {
     "name": "stdout",
     "output_type": "stream",
     "text": [
      "BACKGROUND_Google\n"
     ]
    }
   ],
   "source": [
    "print(class_labels[np.argmax(y_val[10],axis = 0)])"
   ]
  },
  {
   "cell_type": "code",
   "execution_count": null,
   "id": "29a3201a",
   "metadata": {},
   "outputs": [],
   "source": [
    "'''from tensorflow.keras.preprocessing.image import ImageDataGenerator\n",
    "from tensorflow.keras.models import Sequential\n",
    "from tensorflow.keras.layers import Dense, Flatten, GlobalAveragePooling2D, Dropout\n",
    "from tensorflow.keras.applications import VGG16\n",
    "from tensorflow.keras import models, layers\n",
    "from tensorflow.keras.optimizers import Adam\n",
    "import matplotlib.pyplot as plt\n",
    "import numpy as np\n",
    "\n",
    "data_folder = \"caltech-101-img\"\n",
    "\n",
    "# Data augmentation and preprocessing\n",
    "datagen = ImageDataGenerator(rescale=1./255,\n",
    "                             validation_split=0.2,\n",
    "                             rotation_range=40,   # Increased range for better augmentation\n",
    "                             width_shift_range=0.2,\n",
    "                             height_shift_range=0.2,\n",
    "                             shear_range=0.2,\n",
    "                             zoom_range=0.2,\n",
    "                             horizontal_flip=True,\n",
    "                             fill_mode='nearest')\n",
    "\n",
    "# Load training and validation data\n",
    "train_data = datagen.flow_from_directory(data_folder,\n",
    "                                         target_size=(32,32),\n",
    "                                         class_mode='categorical',\n",
    "                                         subset='training')\n",
    "\n",
    "val_data = datagen.flow_from_directory(data_folder,\n",
    "                                       target_size=(32,32),\n",
    "                                       class_mode='categorical',\n",
    "                                       subset='validation')\n",
    "\n",
    "# Set the number of classes\n",
    "num_classes = len(train_data.class_indices)\n",
    "\n",
    "# Load VGG16 base model\n",
    "base_model = VGG16(weights='vgg16_weights_tf_dim_ordering_tf_kernels_notop.h5',\n",
    "                   include_top=False,\n",
    "                   input_shape=(32, 32, 3))\n",
    "\n",
    "# Freeze all layers initially\n",
    "for layer in base_model.layers:\n",
    "    layer.trainable = False\n",
    "\n",
    "# Define the model with added layers\n",
    "model = models.Sequential([base_model,\n",
    "                           GlobalAveragePooling2D(),\n",
    "                           Dense(512, activation='relu'),\n",
    "                           Dropout(0.5),\n",
    "                           Dense(num_classes, activation='softmax')])\n",
    "\n",
    "# Compile the model\n",
    "model.compile(optimizer=Adam(learning_rate=1e-3),\n",
    "              loss='categorical_crossentropy',\n",
    "              metrics=['accuracy'])\n",
    "\n",
    "# Train the model with more epochs and higher steps per epoch\n",
    "model.fit(train_data, steps_per_epoch=200, epochs=20, validation_data=val_data)\n",
    "\n",
    "# Unfreeze more layers from the VGG16 base model for fine-tuning\n",
    "for layer in base_model.layers[-20:]:  # Unfreeze the top 20 layers instead of just 10\n",
    "    layer.trainable = True\n",
    "\n",
    "# Re-compile the model with a smaller learning rate after fine-tuning\n",
    "model.compile(optimizer=Adam(learning_rate=1e-5),\n",
    "              loss='categorical_crossentropy',\n",
    "              metrics=['accuracy'])\n",
    "\n",
    "# Train the model again with fine-tuning\n",
    "model.fit(train_data, steps_per_epoch=200, epochs=10, validation_data=val_data)\n",
    "\n",
    "# Get the class labels and make predictions\n",
    "class_labels = list(train_data.class_indices.keys())\n",
    "x_val, y_val = val_data.next()\n",
    "\n",
    "# Make a prediction for the 10th image in the batch\n",
    "pred = model.predict(x_val)\n",
    "\n",
    "# Visualize the prediction\n",
    "plt.imshow(x_val[10])\n",
    "plt.show()\n",
    "\n",
    "# Print the predicted class label\n",
    "print(\"Predicted class: {}\".format(class_labels[np.argmax(pred[10], axis=0)]))\n",
    "'''"
   ]
  }
 ],
 "metadata": {
  "kernelspec": {
   "display_name": "Python 3 (ipykernel)",
   "language": "python",
   "name": "python3"
  },
  "language_info": {
   "codemirror_mode": {
    "name": "ipython",
    "version": 3
   },
   "file_extension": ".py",
   "mimetype": "text/x-python",
   "name": "python",
   "nbconvert_exporter": "python",
   "pygments_lexer": "ipython3",
   "version": "3.11.5"
  }
 },
 "nbformat": 4,
 "nbformat_minor": 5
}
